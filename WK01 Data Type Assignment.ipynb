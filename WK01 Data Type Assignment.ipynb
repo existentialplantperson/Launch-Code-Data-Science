{
 "cells": [
  {
   "cell_type": "markdown",
   "id": "928a4122",
   "metadata": {},
   "source": [
    "#Data Types - In Class Assignment 09/17/21"
   ]
  },
  {
   "cell_type": "code",
   "execution_count": 1,
   "id": "518b968a",
   "metadata": {},
   "outputs": [],
   "source": [
    "#shift-enter to run on Windows\n",
    "\n",
    "#integers are whole numbers\n",
    "#floats are decimals\n",
    "\n",
    "x=6\n",
    "y=6.67"
   ]
  },
  {
   "cell_type": "code",
   "execution_count": 2,
   "id": "32c6d45c",
   "metadata": {},
   "outputs": [
    {
     "name": "stdout",
     "output_type": "stream",
     "text": [
      "<class 'int'>\n"
     ]
    }
   ],
   "source": [
    "print(type(x))"
   ]
  },
  {
   "cell_type": "code",
   "execution_count": 3,
   "id": "a5293021",
   "metadata": {},
   "outputs": [
    {
     "name": "stdout",
     "output_type": "stream",
     "text": [
      "<class 'float'>\n"
     ]
    }
   ],
   "source": [
    "print(type(y))"
   ]
  },
  {
   "cell_type": "code",
   "execution_count": 4,
   "id": "7214a80a",
   "metadata": {},
   "outputs": [
    {
     "name": "stdout",
     "output_type": "stream",
     "text": [
      "20\n"
     ]
    }
   ],
   "source": [
    "#Dictionaries are key:value pairs\n",
    "houseplants={\"low light\":20, \"indirect light\":34, \"bright light\":18}\n",
    "\n",
    "print(houseplants[\"low light\"])"
   ]
  },
  {
   "cell_type": "code",
   "execution_count": 5,
   "id": "9fa63eae",
   "metadata": {},
   "outputs": [
    {
     "name": "stdout",
     "output_type": "stream",
     "text": [
      "<class 'bool'>\n"
     ]
    }
   ],
   "source": [
    "#Boolean data types are true false values\n",
    "is_true = False\n",
    "print(type(is_true))"
   ]
  },
  {
   "cell_type": "code",
   "execution_count": 6,
   "id": "1e8ea38b",
   "metadata": {},
   "outputs": [
    {
     "name": "stdout",
     "output_type": "stream",
     "text": [
      "{'indirect light', 'bright light', 'low light'}\n"
     ]
    }
   ],
   "source": [
    "#sets have ordered and immutable values\n",
    "houseplants_set = {\"low light\", \"indirect light\"}\n",
    "\n",
    "#add items as long as they are not already present\n",
    "houseplants_set.add(\"bright light\")\n",
    "\n",
    "print(houseplants_set)"
   ]
  },
  {
   "cell_type": "code",
   "execution_count": 10,
   "id": "1fa72a26",
   "metadata": {},
   "outputs": [
    {
     "data": {
      "text/plain": [
       "'Spring'"
      ]
     },
     "execution_count": 10,
     "metadata": {},
     "output_type": "execute_result"
    }
   ],
   "source": [
    "#list values are mutable and ordered\n",
    "\n",
    "gardening = [\"Spring\", \"Summer\", \"Fall\"]\n",
    "gardening[0]"
   ]
  },
  {
   "cell_type": "code",
   "execution_count": 11,
   "id": "d31ce6ba",
   "metadata": {},
   "outputs": [],
   "source": [
    "#skipping the print function will replace the value"
   ]
  },
  {
   "cell_type": "code",
   "execution_count": 13,
   "id": "97b9c091",
   "metadata": {},
   "outputs": [
    {
     "data": {
      "text/plain": [
       "'low light'"
      ]
     },
     "execution_count": 13,
     "metadata": {},
     "output_type": "execute_result"
    }
   ],
   "source": [
    "#tuples are ordered and immutable\n",
    "houseplants_tuple = (\"low light\", \"indirect light\", \"bright light\")\n",
    "\n",
    "houseplants_tuple[0]"
   ]
  },
  {
   "cell_type": "code",
   "execution_count": 14,
   "id": "44cd11df",
   "metadata": {},
   "outputs": [
    {
     "name": "stdout",
     "output_type": "stream",
     "text": [
      "3\n"
     ]
    }
   ],
   "source": [
    "#print the length of the list\n",
    "print(len(houseplants_tuple))"
   ]
  },
  {
   "cell_type": "code",
   "execution_count": null,
   "id": "1d82d3e5",
   "metadata": {},
   "outputs": [],
   "source": []
  }
 ],
 "metadata": {
  "kernelspec": {
   "display_name": "Python 3 (ipykernel)",
   "language": "python",
   "name": "python3"
  },
  "language_info": {
   "codemirror_mode": {
    "name": "ipython",
    "version": 3
   },
   "file_extension": ".py",
   "mimetype": "text/x-python",
   "name": "python",
   "nbconvert_exporter": "python",
   "pygments_lexer": "ipython3",
   "version": "3.9.7"
  }
 },
 "nbformat": 4,
 "nbformat_minor": 5
}
